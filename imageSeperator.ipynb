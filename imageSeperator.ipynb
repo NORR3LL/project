{
 "cells": [
  {
   "cell_type": "code",
   "execution_count": null,
   "metadata": {},
   "outputs": [],
   "source": [
    "import os\n",
    "import shutil\n",
    "import random\n",
    "from pathlib import Path\n",
    "\n",
    "# Set the paths\n",
    "root_dir = 'C:/uoft/1517/content/content/lung_ct_augmented'  # Replace with the path to your root directory\n",
    "train_dir = os.path.join(root_dir, 'train')\n",
    "val_dir = os.path.join(root_dir, 'val')\n",
    "test_dir = os.path.join(root_dir, 'test')\n",
    "\n",
    "# Create the target directories\n",
    "for folder in [train_dir, val_dir, test_dir]:\n",
    "    os.makedirs(folder, exist_ok=True)\n",
    "\n",
    "# Parameters for splitting\n",
    "train_split = 0.7\n",
    "val_split = 0.15\n",
    "test_split = 0.15\n",
    "\n",
    "# Check that splits add up to 1\n",
    "assert train_split + val_split + test_split == 1, \"Splits do not add up to 1!\"\n",
    "\n",
    "# Function to split and copy images\n",
    "def split_data(source, train_dir, val_dir, test_dir):\n",
    "    for category in os.listdir(source):\n",
    "        category_path = os.path.join(source, category)\n",
    "        \n",
    "        # Skip if not a directory\n",
    "        if not os.path.isdir(category_path):\n",
    "            continue\n",
    "        \n",
    "        # Get list of files\n",
    "        files = [f for f in os.listdir(category_path) if os.path.isfile(os.path.join(category_path, f))]\n",
    "        random.shuffle(files)\n",
    "\n",
    "        # Calculate split indices\n",
    "        train_end = int(len(files) * train_split)\n",
    "        val_end = train_end + int(len(files) * val_split)\n",
    "\n",
    "        # Split files\n",
    "        train_files = files[:train_end]\n",
    "        val_files = files[train_end:val_end]\n",
    "        test_files = files[val_end:]\n",
    "\n",
    "        # Create category directories in train, val, test\n",
    "        for folder, file_set in zip([train_dir, val_dir, test_dir], [train_files, val_files, test_files]):\n",
    "            target_category_dir = os.path.join(folder, category)\n",
    "            os.makedirs(target_category_dir, exist_ok=True)\n",
    "\n",
    "            # Copy files\n",
    "            for file in file_set:\n",
    "                src = os.path.join(category_path, file)\n",
    "                dst = os.path.join(target_category_dir, file)\n",
    "                shutil.copy2(src, dst)\n",
    "\n",
    "# Run the split\n",
    "split_data(root_dir, train_dir, val_dir, test_dir)\n",
    "\n",
    "\n",
    "\n"
   ]
  },
  {
   "cell_type": "code",
   "execution_count": 1,
   "metadata": {},
   "outputs": [
    {
     "name": "stderr",
     "output_type": "stream",
     "text": [
      "Traceback (most recent call last):\n",
      "  File \"<frozen runpy>\", line 198, in _run_module_as_main\n",
      "  File \"<frozen runpy>\", line 88, in _run_code\n",
      "  File \"C:\\python\\Scripts\\nbmerge.exe\\__main__.py\", line 7, in <module>\n",
      "  File \"C:\\python\\Lib\\site-packages\\nbmerge\\__init__.py\", line 189, in main\n",
      "    plan = parse_plan(args)\n",
      "           ^^^^^^^^^^^^^^^^\n",
      "  File \"C:\\python\\Lib\\site-packages\\nbmerge\\__init__.py\", line 173, in parse_plan\n",
      "    raise IOError(\"Notebook `{}` does not exist\".format(file_path))\n",
      "OSError: Notebook `.\\reformat` does not exist\n"
     ]
    }
   ],
   "source": [
    "!nbmerge .\\reformat (1).ipynb .\\imageSeperator.ipynb .\\1517_model.ipynb > merge.ipynb\n",
    "\n"
   ]
  }
 ],
 "metadata": {
  "kernelspec": {
   "display_name": "1517",
   "language": "python",
   "name": "python3"
  },
  "language_info": {
   "codemirror_mode": {
    "name": "ipython",
    "version": 3
   },
   "file_extension": ".py",
   "mimetype": "text/x-python",
   "name": "python",
   "nbconvert_exporter": "python",
   "pygments_lexer": "ipython3",
   "version": "3.12.6"
  }
 },
 "nbformat": 4,
 "nbformat_minor": 2
}
